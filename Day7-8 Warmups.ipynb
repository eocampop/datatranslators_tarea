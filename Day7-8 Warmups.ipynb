{
 "cells": [
  {
   "cell_type": "code",
   "execution_count": 7,
   "metadata": {},
   "outputs": [],
   "source": [
    "from IPython.core.interactiveshell import InteractiveShell\n",
    "InteractiveShell.ast_node_interactivity = \"all\""
   ]
  },
  {
   "cell_type": "code",
   "execution_count": 1,
   "metadata": {},
   "outputs": [
    {
     "name": "stdout",
     "output_type": "stream",
     "text": [
      "this string wasn't chosen arbitrarily...\n",
      "s\n"
     ]
    }
   ],
   "source": [
    "# %load warmup1.py\n",
    "my_str = \"This String wasn't Chosen Arbitrarily...\"\n",
    "print(my_str.lower())\n",
    "print(my_str[14])"
   ]
  },
  {
   "cell_type": "code",
   "execution_count": 6,
   "metadata": {},
   "outputs": [
    {
     "name": "stdout",
     "output_type": "stream",
     "text": [
      "hello\n"
     ]
    }
   ],
   "source": [
    "# %load warmup2.py\n",
    "my_list = [1, 'hello', 2, 'there', 3, 'list']\n",
    "print(my_list[1])\n"
   ]
  },
  {
   "cell_type": "code",
   "execution_count": 10,
   "metadata": {},
   "outputs": [
    {
     "name": "stdout",
     "output_type": "stream",
     "text": [
      "hello\n",
      "there\n",
      "python\n",
      "['l', 'i', 's', 't']\n",
      "!\n"
     ]
    }
   ],
   "source": [
    "# %load warmup3.py\n",
    "my_list = ['hello', 'there', 'python', list('list'), '!']\n",
    "for element in my_list:\n",
    "    print(element)\n"
   ]
  },
  {
   "cell_type": "code",
   "execution_count": 12,
   "metadata": {},
   "outputs": [
    {
     "data": {
      "text/plain": [
       "[5, (3+2j), 'dog']"
      ]
     },
     "execution_count": 12,
     "metadata": {},
     "output_type": "execute_result"
    }
   ],
   "source": [
    "#list ('food','gdog')\n",
    "sample_list = [5,3 +2j,'dog']\n",
    "sample_list"
   ]
  },
  {
   "cell_type": "code",
   "execution_count": 2,
   "metadata": {},
   "outputs": [
    {
     "name": "stdout",
     "output_type": "stream",
     "text": [
      "this string wasn't chosen arbitrarily...or was it??\n"
     ]
    }
   ],
   "source": [
    "my_str = \"This String wasn't Chosen Arbitrarily...\"\n",
    "my_str = my_str + \"oR wAs it??\"\n",
    "print(my_str.lower()) "
   ]
  },
  {
   "cell_type": "code",
   "execution_count": 8,
   "metadata": {},
   "outputs": [
    {
     "name": "stdout",
     "output_type": "stream",
     "text": [
      "51\n",
      "oR wAs it??\n"
     ]
    }
   ],
   "source": [
    "my_str = \"This String wasn't Chosen Arbitrarily...\"\n",
    "my_str = my_str + \"oR wAs it??\"\n",
    "print (len(my_str))\n",
    "print(my_str[len(my_str)-11:]) "
   ]
  },
  {
   "cell_type": "code",
   "execution_count": 11,
   "metadata": {},
   "outputs": [
    {
     "name": "stdout",
     "output_type": "stream",
     "text": [
      "51\n",
      "OR WAS IT??\n"
     ]
    }
   ],
   "source": [
    "my_str = \"This String wasn't Chosen Arbitrarily...\"\n",
    "my_str = my_str + \"oR wAs it??\"\n",
    "print (len(my_str))\n",
    "print(my_str[len(my_str)-11:].upper())   "
   ]
  },
  {
   "cell_type": "code",
   "execution_count": 20,
   "metadata": {},
   "outputs": [
    {
     "name": "stdin",
     "output_type": "stream",
     "text": [
      "Add \"oR wAs it??\" (y/n)?  n\n"
     ]
    },
    {
     "name": "stdout",
     "output_type": "stream",
     "text": [
      "THIS STRING WAS NOT CHOSEN ARBITRARILY...\n"
     ]
    }
   ],
   "source": [
    "user_input = input('Add \"oR wAs it??\" (y/n)? ')\n",
    "my_str = 'This String was not Chosen Arbitrarily...'\n",
    "\n",
    "if (user_input == \"y\"):\n",
    "    my_str = my_str + \"oR wAs it??\"\n",
    "else: my_str\n",
    "\n",
    "\n",
    "print(my_str.upper())"
   ]
  },
  {
   "cell_type": "code",
   "execution_count": 2,
   "metadata": {},
   "outputs": [
    {
     "name": "stdin",
     "output_type": "stream",
     "text": [
      "String to add to end of my_str:  Eduardo Ocampo\n"
     ]
    },
    {
     "name": "stdout",
     "output_type": "stream",
     "text": [
      "THIS STRING WAS NOT CHOSEN ARBITRARILY...EDUARDO OCAMPO\n"
     ]
    }
   ],
   "source": [
    "user_input = input('String to add to end of my_str: ')\n",
    "my_str = 'This String was not Chosen Arbitrarily...'\n",
    "\n",
    "my_str = my_str + user_input\n",
    "\n",
    "print(my_str.upper())"
   ]
  },
  {
   "cell_type": "code",
   "execution_count": 4,
   "metadata": {},
   "outputs": [
    {
     "name": "stdin",
     "output_type": "stream",
     "text": [
      "String to add to end of my_str:  eduardoocampoperez\n"
     ]
    },
    {
     "name": "stdout",
     "output_type": "stream",
     "text": [
      "THIS STRING WAS NOT CHOSEN ARBITRARILY...\n"
     ]
    }
   ],
   "source": [
    "user_input = input('String to add to end of my_str: ')\n",
    "my_str = 'This String was not Chosen Arbitrarily...'\n",
    "\n",
    "\n",
    "if (len(user_input)<10):\n",
    "    my_str = my_str + user_input    \n",
    "else: my_str\n",
    "    \n",
    "print(my_str.upper())\n",
    "\n"
   ]
  },
  {
   "cell_type": "code",
   "execution_count": null,
   "metadata": {},
   "outputs": [],
   "source": []
  }
 ],
 "metadata": {
  "kernelspec": {
   "display_name": "Python 3",
   "language": "python",
   "name": "python3"
  },
  "language_info": {
   "codemirror_mode": {
    "name": "ipython",
    "version": 3
   },
   "file_extension": ".py",
   "mimetype": "text/x-python",
   "name": "python",
   "nbconvert_exporter": "python",
   "pygments_lexer": "ipython3",
   "version": "3.7.3"
  }
 },
 "nbformat": 4,
 "nbformat_minor": 4
}
