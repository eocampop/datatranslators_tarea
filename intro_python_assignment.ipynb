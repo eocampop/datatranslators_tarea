{
 "cells": [
  {
   "cell_type": "markdown",
   "metadata": {},
   "source": [
    "## Warmups\n",
    "\n",
    "1. Multiplication can be thought of as repeated additions. Write a script that takes as input two positive integers, `a` and `b`, and returns `a * b`. Do this without using the `*` operator. \n",
    "2. Integer division can be done with repeated substraction, similar to how multiplication can be done with addition. Write a script that takes as input two positive integers, `a` and `b`, and returns `a / b`. Do this without using the `/` operator.\n",
    "3. Exponentiation is repeated multiplication. Write a script that takes as input two positive integers, `a` and `b`, and returns `a ** b`. Do this without using the `**` operator.\n",
    "4. For two integers, `a` and `b`, `b` divides `a` if `a / b` has no remainder. Write a script that takes as input two positive integers, `a` and `b`, and says whether `b` divides `a`.\n",
    "5. `while` loops and conditionals give you a lot of power. Try and create a game where a user is repeteadly asked to guess a number. If they get it wrong, they are asked to guess again, and if they are correct, they are told and the game ends. For extra credit, have the game tell the user whether their guess was high or low."
   ]
  },
  {
   "cell_type": "code",
   "execution_count": 1,
   "metadata": {},
   "outputs": [
    {
     "name": "stdin",
     "output_type": "stream",
     "text": [
      "Ingresa un numero entero positivo:  3\n",
      "Ingresa un numero entero positivo  2\n"
     ]
    },
    {
     "name": "stdout",
     "output_type": "stream",
     "text": [
      "6\n"
     ]
    }
   ],
   "source": [
    "#1\n",
    "a = int(input('Ingresa un numero entero positivo: '))\n",
    "b = int(input('Ingresa un numero entero positivo '))\n",
    "acum =0\n",
    "\n",
    "for i in range(a):\n",
    "    acum+=b\n",
    "print(acum)"
   ]
  },
  {
   "cell_type": "code",
   "execution_count": null,
   "metadata": {},
   "outputs": [],
   "source": [
    "#2\n",
    "a = int(input('Ingresa un numero entero positivo: '))\n",
    "b = int(input('Ingresa un numero entero positivo '))\n",
    "acum =0\n",
    "\n",
    "while b<=a:\n",
    "    acum+=1\n",
    "    a-=b\n",
    "print(acum)"
   ]
  },
  {
   "cell_type": "markdown",
   "metadata": {},
   "source": [
    "## Assignment Questions\n",
    "\n",
    "1. Write a script that takes a user inputted number and prints whether it is positive, negative or zero, with \"The inputted number is (positive/negative/zero)\" depending."
   ]
  },
  {
   "cell_type": "markdown",
   "metadata": {},
   "source": [
    "2. Write a script that takes two user inputted numbers and prints \"The first number is larger\" or \"The second number is larger\" depending on which is larger. (**Hint**: you'll need to use `input()` twice.)"
   ]
  },
  {
   "cell_type": "markdown",
   "metadata": {},
   "source": [
    "3. Write a script that computes the sum from 0 to a user inputted number. This time though, start at the user inputted number and work down. This answer will look very much like the example above, you'll just need to change a couple of things."
   ]
  },
  {
   "cell_type": "markdown",
   "metadata": {},
   "source": [
    "4. Write a script that computes the factorial of a user inputted number. If you don't know what a factorial is or need a review, check [this](https://en.wikipedia.org/wiki/Factorial) link out. Again, your solution is going to look a lot like the code above. Things you should think about:\n",
    "    * What is the process of computing a factorial if you were to compute it by hand?\n",
    "    * What is the common starting place when trying to compute the factorial of any number?<br><br>"
   ]
  },
  {
   "cell_type": "markdown",
   "metadata": {},
   "source": [
    "5.  Write a script that computes and prints all of the divisors of a user inputted number. If you don't know what a divisor is or need a review, check out [this](https://en.wikipedia.org/wiki/Divisor) link. Things to think about:\n",
    "    * How do you determine if a single number is a divisor of another?\n",
    "    * How do you do this multiple times (**Hint**: it involves a while loop)?\n",
    "    * When do you stop the loop?<br><br>"
   ]
  },
  {
   "cell_type": "markdown",
   "metadata": {},
   "source": [
    "6.  Write a script that computes the greatest common divisor between two user inputted numbers. If you don't know what a greatest common divisor is, check out [this](https://en.wikipedia.org/wiki/Greatest_common_divisor) link. Things to think about:\n",
    "    * How do you get two numbers from the user?\n",
    "    * Where should you start your search for the GCD?\n",
    "    * Where/how should you end your search?<br><br>"
   ]
  },
  {
   "cell_type": "markdown",
   "metadata": {},
   "source": [
    "7.  Write a script that computes the least common multiple between two user inputted numbers. If you don't know what a least common multiple is or want a review check [this](https://en.wikipedia.org/wiki/Least_common_multiple) out. Things to think about:\n",
    "    * How do you get two numbers from the user?\n",
    "    * Where should you start your search for the LCM?\n",
    "    * Where/how should you end your search?<br><br>"
   ]
  },
  {
   "cell_type": "markdown",
   "metadata": {},
   "source": [
    "8. Write a script that determines whether or not a user inputted number is a prime number and prints `'The number you inputted is (not) a prime number.'` depending on what your script finds. If you don't know what a prime number is or need a review, check out [this](https://en.wikipedia.org/wiki/Prime_number) link. Things to think about:\n",
    "    * How do you check if a number is divisible by another number?\n",
    "    * What numbers are a prime number divisible by?\n",
    "    * How do you check all of the numbers a number could be divisible by (**Hint**: use a loop)?\n",
    "    * When do you stop the loop?<br><br>"
   ]
  },
  {
   "cell_type": "markdown",
   "metadata": {},
   "source": [
    "9.  One can use loops to compute the elements of a mathematical series. Series can be defined recursively with the value of each element depending on the one that comes before it. Consider the series created by the rules:\n",
    "\n",
    "    ![series](misc/series_pic.png)\n",
    "\n",
    "    Write a script that prints the `nth` element in the series as determined by input from the user. e.g. If the user inputs the number `3`, your script should print the 3rd element in the series, `15`. You're welcome to check the math! Things to think about:\n",
    "    * You know you're going to use a loop to solve this problem, how?\n",
    "    * How do you store each of the elements as you calculate them with the loop?\n",
    "    * How many elements do you need to keep track of at any one time?\n",
    "    * How do you know when to stop the loop?<br><br>"
   ]
  },
  {
   "cell_type": "markdown",
   "metadata": {},
   "source": [
    "10. Challenge: solve the equation:\n",
    "\n",
    "    `(a + (b - c) * d - e) * f = 75`\n",
    "\n",
    "    where a, b, c, d, e, and f are unique integers in the range [1, 6].\n",
    "\n",
    "    Hints:\n",
    "      - Computers are so fast that your program can simply try all possible valid values of a, b, c, d, e, and f until it finds one permutation of 1-6 that solves the challenge! (Btw, there is only *one* permutation that will solve it.)\n",
    "      - Use 6 nested for-loops to enumerate all ways of setting each of a, b, c, d, e, and f to the values 1-6.\n",
    "      - Use if-statements to ensure all values of a, b, c, d, e, and f are valid. (I.e. to ensure that each value is unique)\n",
    "      - Use an if-statement to test if the current permutation solves the challenge.<br><br>\n",
    "\n",
    "    Want more? Modify your program to solve all these (very similar) equations:\n",
    "\n",
    "    ```\n",
    "    (a + (b - c) * d - e) * f = 22\n",
    "    (a + (b - c) * d - e) * f = 38\n",
    "    (a + (b - c) * d - e) * f = 46\n",
    "    (a + (b - c) * d - e) * f = 57\n",
    "    (a + (b - c) * d - e) * f = 78\n",
    "    (a + (b - c) * d - e) * f = 80\n",
    "    (a + (b - c) * d - e) * f = 81\n",
    "    (a + (b - c) * d - e) * f = 88\n",
    "    (a + (b - c) * d - e) * f = 92\n",
    "    (a + (b - c) * d - e) * f = 100\n",
    "    (a + (b - c) * d - e) * f = 102\n",
    "    (a + (b - c) * d - e) * f = 104\n",
    "    (a + (b - c) * d - e) * f = 105\n",
    "    ```"
   ]
  }
 ],
 "metadata": {
  "kernelspec": {
   "display_name": "Python 3",
   "language": "python",
   "name": "python3"
  },
  "language_info": {
   "codemirror_mode": {
    "name": "ipython",
    "version": 3
   },
   "file_extension": ".py",
   "mimetype": "text/x-python",
   "name": "python",
   "nbconvert_exporter": "python",
   "pygments_lexer": "ipython3",
   "version": "3.7.3"
  }
 },
 "nbformat": 4,
 "nbformat_minor": 4
}
