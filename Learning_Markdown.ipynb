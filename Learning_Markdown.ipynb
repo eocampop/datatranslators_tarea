{
 "cells": [
  {
   "cell_type": "code",
   "execution_count": 1,
   "metadata": {},
   "outputs": [
    {
     "name": "stdout",
     "output_type": "stream",
     "text": [
      "hello world\n"
     ]
    }
   ],
   "source": [
    "print('hello world')"
   ]
  },
  {
   "cell_type": "code",
   "execution_count": 2,
   "metadata": {},
   "outputs": [],
   "source": [
    "# Markdown is supported on github.com, bitbucket, jupyter notebooks, pdf files. "
   ]
  },
  {
   "cell_type": "markdown",
   "metadata": {},
   "source": [
    "# Lever 1 Header"
   ]
  },
  {
   "cell_type": "markdown",
   "metadata": {},
   "source": [
    "## Level 2 Header\n",
    "### Level 3 Header\n",
    "#### Level 4 Header"
   ]
  },
  {
   "cell_type": "code",
   "execution_count": 5,
   "metadata": {},
   "outputs": [],
   "source": [
    "# Formatting text"
   ]
  },
  {
   "cell_type": "code",
   "execution_count": null,
   "metadata": {},
   "outputs": [],
   "source": []
  },
  {
   "cell_type": "markdown",
   "metadata": {},
   "source": [
    "###### Formatting text\n",
    "```markdown\n",
    "<br> **Bold text**\n",
    "<br> *Italicize text*\n",
    "<br> _Bold-Italicize_\n",
    "<br> ~~Striketrought~~\n",
    "<br> \\*Here is a sentence*\\\n",
    "```"
   ]
  },
  {
   "cell_type": "markdown",
   "metadata": {},
   "source": [
    "###### Formatting text\n",
    "\n",
    "<br> **Bold text**\n",
    "<br> *Italicize text*\n",
    "<br> _Bold-Italicize_\n",
    "<br> ~~Striketrought~~\n",
    "<br> \\*Here is a sentence*\\\n",
    "<br> $$ x^2 + y $$"
   ]
  },
  {
   "cell_type": "markdown",
   "metadata": {},
   "source": [
    "```pyhton\n",
    "print('hello world')\n",
    "```"
   ]
  },
  {
   "cell_type": "markdown",
   "metadata": {},
   "source": [
    "```bash\n",
    "git status\n",
    "git add .\n",
    "git commit - \"Changes\"\n",
    "```"
   ]
  },
  {
   "cell_type": "code",
   "execution_count": 11,
   "metadata": {},
   "outputs": [],
   "source": [
    "# Markdown suppor css, html, and javascript"
   ]
  },
  {
   "cell_type": "markdown",
   "metadata": {},
   "source": [
    "<font color=\"blue\">Hello World</font>"
   ]
  },
  {
   "cell_type": "markdown",
   "metadata": {},
   "source": [
    "Quote blocks: ´> operator\n",
    "> I write some text"
   ]
  },
  {
   "cell_type": "markdown",
   "metadata": {},
   "source": [
    ">[This link is for Google](http://www.cemex.com)"
   ]
  },
  {
   "cell_type": "markdown",
   "metadata": {},
   "source": [
    "- First bullet\n",
    "- Second bullet\n",
    "- Third Bullet\n",
    "* Fourth Bullet"
   ]
  },
  {
   "cell_type": "markdown",
   "metadata": {},
   "source": [
    "1. Sixth bullet\n",
    "1. Seventh bullet\n",
    "1. Seventh bullet\n",
    "1. Seventh bullet"
   ]
  },
  {
   "cell_type": "markdown",
   "metadata": {},
   "source": [
    "##### [Emojipedia](https://emojipedia.org)\n",
    "<font size=12> ❤️❤️❤️❤️❤️ </font>"
   ]
  },
  {
   "cell_type": "markdown",
   "metadata": {},
   "source": [
    "Name | Sport | Country\n",
    "--- | --- | ---\n",
    "Federer | Tennis | Switzerland\n",
    "Nadal | Tennis | Spain\n",
    "Jordan | Basketball | USA"
   ]
  },
  {
   "cell_type": "markdown",
   "metadata": {},
   "source": [
    "![Pyhton logo](https://upload.wikimedia.org/wikipedia/commons/c/c3/Python-logo-notext.svg)"
   ]
  },
  {
   "cell_type": "markdown",
   "metadata": {},
   "source": [
    "<details>\n",
    "    <summary><strong>Dropdown below </strong>\n",
    "    <P>Here is something interesting text that we will read.\n",
    "</summary>"
   ]
  },
  {
   "cell_type": "markdown",
   "metadata": {},
   "source": [
    "&#8721;"
   ]
  },
  {
   "cell_type": "code",
   "execution_count": null,
   "metadata": {},
   "outputs": [],
   "source": []
  }
 ],
 "metadata": {
  "kernelspec": {
   "display_name": "Python 3",
   "language": "python",
   "name": "python3"
  },
  "language_info": {
   "codemirror_mode": {
    "name": "ipython",
    "version": 3
   },
   "file_extension": ".py",
   "mimetype": "text/x-python",
   "name": "python",
   "nbconvert_exporter": "python",
   "pygments_lexer": "ipython3",
   "version": "3.7.3"
  }
 },
 "nbformat": 4,
 "nbformat_minor": 4
}
